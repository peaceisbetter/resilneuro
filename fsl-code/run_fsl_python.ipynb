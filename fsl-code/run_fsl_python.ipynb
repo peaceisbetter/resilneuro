{
 "cells": [
  {
   "cell_type": "code",
   "execution_count": 1,
   "metadata": {},
   "outputs": [],
   "source": [
    "import os\n",
    "import subprocess\n",
    "import re\n",
    "import shutil\n",
    "from IPython.core.interactiveshell import InteractiveShell\n",
    "InteractiveShell.ast_node_interactivity = \"all\""
   ]
  },
  {
   "cell_type": "code",
   "execution_count": 2,
   "metadata": {},
   "outputs": [],
   "source": [
    "# This block creates objects to store the directory paths\n",
    "cdir = os.getcwd()\n",
    "pardir = os.path.dirname(cdir)\n",
    "spdir = cdir.split('/')\n",
    "condir = pardir + '/cond'\n",
    "featdir = pardir + '/feat'\n",
    "fsfdir = cdir + '/fsfdir'"
   ]
  },
  {
   "cell_type": "code",
   "execution_count": 3,
   "metadata": {},
   "outputs": [],
   "source": [
    "# This block creates a text file with the list of the file names in the fsf directory\n",
    "with open('fsf_files.txt', 'w') as f:\n",
    "    a = subprocess.run('ls fsfdir', shell=True, stdout=f, text=True)"
   ]
  },
  {
   "cell_type": "code",
   "execution_count": 4,
   "metadata": {},
   "outputs": [],
   "source": [
    "# This block opens the fsf_files.txt file, and imports it's contents as the list fsf_ls\n",
    "with open('fsf_files.txt', 'r') as file:\n",
    "    fsf_ls = file.readlines()\n",
    "\n",
    "fsf_ls = [line.strip() for line in fsf_ls]"
   ]
  },
  {
   "cell_type": "code",
   "execution_count": 5,
   "metadata": {},
   "outputs": [],
   "source": [
    "# This bloc searches the fsf_ls for the subject id and creates a list of subjects id's\n",
    "pattern = 'sub-Resiliency[0-9][0-9][0-9]'\n",
    "subs = []\n",
    "\n",
    "# loop through fsf_ls to search for the subject id pattern\n",
    "for item in fsf_ls:\n",
    "    # search for the pattern\n",
    "    subsi = re.search(pattern, item)\n",
    "    # append the current subject id to the subs list\n",
    "    subs.append(subsi.group(0))\n",
    "\n",
    "subs = set(subs)"
   ]
  },
  {
   "cell_type": "code",
   "execution_count": 6,
   "metadata": {},
   "outputs": [
    {
     "data": {
      "text/plain": [
       "'/gpfs/home/jackpmanning/Documents/resil/feat/sub-Resiliency203/design_sub-Resiliency203_run-1.fsf'"
      ]
     },
     "execution_count": 6,
     "metadata": {},
     "output_type": "execute_result"
    },
    {
     "data": {
      "text/plain": [
       "'/gpfs/home/jackpmanning/Documents/resil/feat/sub-Resiliency203/design_sub-Resiliency203_run-2.fsf'"
      ]
     },
     "execution_count": 6,
     "metadata": {},
     "output_type": "execute_result"
    },
    {
     "data": {
      "text/plain": [
       "'/gpfs/home/jackpmanning/Documents/resil/feat/sub-Resiliency203/design_sub-Resiliency203_run-3.fsf'"
      ]
     },
     "execution_count": 6,
     "metadata": {},
     "output_type": "execute_result"
    },
    {
     "data": {
      "text/plain": [
       "'/gpfs/home/jackpmanning/Documents/resil/feat/sub-Resiliency207/design_sub-Resiliency207_run-1.fsf'"
      ]
     },
     "execution_count": 6,
     "metadata": {},
     "output_type": "execute_result"
    },
    {
     "data": {
      "text/plain": [
       "'/gpfs/home/jackpmanning/Documents/resil/feat/sub-Resiliency207/design_sub-Resiliency207_run-2.fsf'"
      ]
     },
     "execution_count": 6,
     "metadata": {},
     "output_type": "execute_result"
    },
    {
     "data": {
      "text/plain": [
       "'/gpfs/home/jackpmanning/Documents/resil/feat/sub-Resiliency207/design_sub-Resiliency207_run-3.fsf'"
      ]
     },
     "execution_count": 6,
     "metadata": {},
     "output_type": "execute_result"
    },
    {
     "data": {
      "text/plain": [
       "'/gpfs/home/jackpmanning/Documents/resil/feat/sub-Resiliency303/design_sub-Resiliency303_run-1.fsf'"
      ]
     },
     "execution_count": 6,
     "metadata": {},
     "output_type": "execute_result"
    },
    {
     "data": {
      "text/plain": [
       "'/gpfs/home/jackpmanning/Documents/resil/feat/sub-Resiliency303/design_sub-Resiliency303_run-2.fsf'"
      ]
     },
     "execution_count": 6,
     "metadata": {},
     "output_type": "execute_result"
    },
    {
     "data": {
      "text/plain": [
       "'/gpfs/home/jackpmanning/Documents/resil/feat/sub-Resiliency303/design_sub-Resiliency303_run-3.fsf'"
      ]
     },
     "execution_count": 6,
     "metadata": {},
     "output_type": "execute_result"
    },
    {
     "data": {
      "text/plain": [
       "'/gpfs/home/jackpmanning/Documents/resil/feat/sub-Resiliency304/design_sub-Resiliency304_run-1.fsf'"
      ]
     },
     "execution_count": 6,
     "metadata": {},
     "output_type": "execute_result"
    },
    {
     "data": {
      "text/plain": [
       "'/gpfs/home/jackpmanning/Documents/resil/feat/sub-Resiliency304/design_sub-Resiliency304_run-2.fsf'"
      ]
     },
     "execution_count": 6,
     "metadata": {},
     "output_type": "execute_result"
    },
    {
     "data": {
      "text/plain": [
       "'/gpfs/home/jackpmanning/Documents/resil/feat/sub-Resiliency304/design_sub-Resiliency304_run-3.fsf'"
      ]
     },
     "execution_count": 6,
     "metadata": {},
     "output_type": "execute_result"
    },
    {
     "data": {
      "text/plain": [
       "'/gpfs/home/jackpmanning/Documents/resil/feat/sub-Resiliency201/design_sub-Resiliency201_run-1.fsf'"
      ]
     },
     "execution_count": 6,
     "metadata": {},
     "output_type": "execute_result"
    },
    {
     "data": {
      "text/plain": [
       "'/gpfs/home/jackpmanning/Documents/resil/feat/sub-Resiliency201/design_sub-Resiliency201_run-2.fsf'"
      ]
     },
     "execution_count": 6,
     "metadata": {},
     "output_type": "execute_result"
    },
    {
     "data": {
      "text/plain": [
       "'/gpfs/home/jackpmanning/Documents/resil/feat/sub-Resiliency201/design_sub-Resiliency201_run-3.fsf'"
      ]
     },
     "execution_count": 6,
     "metadata": {},
     "output_type": "execute_result"
    },
    {
     "data": {
      "text/plain": [
       "'/gpfs/home/jackpmanning/Documents/resil/feat/sub-Resiliency306/design_sub-Resiliency306_run-1.fsf'"
      ]
     },
     "execution_count": 6,
     "metadata": {},
     "output_type": "execute_result"
    },
    {
     "data": {
      "text/plain": [
       "'/gpfs/home/jackpmanning/Documents/resil/feat/sub-Resiliency306/design_sub-Resiliency306_run-2.fsf'"
      ]
     },
     "execution_count": 6,
     "metadata": {},
     "output_type": "execute_result"
    },
    {
     "data": {
      "text/plain": [
       "'/gpfs/home/jackpmanning/Documents/resil/feat/sub-Resiliency306/design_sub-Resiliency306_run-3.fsf'"
      ]
     },
     "execution_count": 6,
     "metadata": {},
     "output_type": "execute_result"
    },
    {
     "data": {
      "text/plain": [
       "'/gpfs/home/jackpmanning/Documents/resil/feat/sub-Resiliency209/design_sub-Resiliency209_run-1.fsf'"
      ]
     },
     "execution_count": 6,
     "metadata": {},
     "output_type": "execute_result"
    },
    {
     "data": {
      "text/plain": [
       "'/gpfs/home/jackpmanning/Documents/resil/feat/sub-Resiliency209/design_sub-Resiliency209_run-2.fsf'"
      ]
     },
     "execution_count": 6,
     "metadata": {},
     "output_type": "execute_result"
    },
    {
     "data": {
      "text/plain": [
       "'/gpfs/home/jackpmanning/Documents/resil/feat/sub-Resiliency209/design_sub-Resiliency209_run-3.fsf'"
      ]
     },
     "execution_count": 6,
     "metadata": {},
     "output_type": "execute_result"
    },
    {
     "data": {
      "text/plain": [
       "'/gpfs/home/jackpmanning/Documents/resil/feat/sub-Resiliency202/design_sub-Resiliency202_run-1.fsf'"
      ]
     },
     "execution_count": 6,
     "metadata": {},
     "output_type": "execute_result"
    },
    {
     "data": {
      "text/plain": [
       "'/gpfs/home/jackpmanning/Documents/resil/feat/sub-Resiliency202/design_sub-Resiliency202_run-2.fsf'"
      ]
     },
     "execution_count": 6,
     "metadata": {},
     "output_type": "execute_result"
    },
    {
     "data": {
      "text/plain": [
       "'/gpfs/home/jackpmanning/Documents/resil/feat/sub-Resiliency202/design_sub-Resiliency202_run-3.fsf'"
      ]
     },
     "execution_count": 6,
     "metadata": {},
     "output_type": "execute_result"
    },
    {
     "data": {
      "text/plain": [
       "'/gpfs/home/jackpmanning/Documents/resil/feat/sub-Resiliency206/design_sub-Resiliency206_run-1.fsf'"
      ]
     },
     "execution_count": 6,
     "metadata": {},
     "output_type": "execute_result"
    },
    {
     "data": {
      "text/plain": [
       "'/gpfs/home/jackpmanning/Documents/resil/feat/sub-Resiliency206/design_sub-Resiliency206_run-2.fsf'"
      ]
     },
     "execution_count": 6,
     "metadata": {},
     "output_type": "execute_result"
    },
    {
     "data": {
      "text/plain": [
       "'/gpfs/home/jackpmanning/Documents/resil/feat/sub-Resiliency206/design_sub-Resiliency206_run-3.fsf'"
      ]
     },
     "execution_count": 6,
     "metadata": {},
     "output_type": "execute_result"
    },
    {
     "data": {
      "text/plain": [
       "'/gpfs/home/jackpmanning/Documents/resil/feat/sub-Resiliency301/design_sub-Resiliency301_run-1.fsf'"
      ]
     },
     "execution_count": 6,
     "metadata": {},
     "output_type": "execute_result"
    },
    {
     "data": {
      "text/plain": [
       "'/gpfs/home/jackpmanning/Documents/resil/feat/sub-Resiliency301/design_sub-Resiliency301_run-2.fsf'"
      ]
     },
     "execution_count": 6,
     "metadata": {},
     "output_type": "execute_result"
    },
    {
     "data": {
      "text/plain": [
       "'/gpfs/home/jackpmanning/Documents/resil/feat/sub-Resiliency301/design_sub-Resiliency301_run-3.fsf'"
      ]
     },
     "execution_count": 6,
     "metadata": {},
     "output_type": "execute_result"
    },
    {
     "data": {
      "text/plain": [
       "'/gpfs/home/jackpmanning/Documents/resil/feat/sub-Resiliency211/design_sub-Resiliency211_run-1.fsf'"
      ]
     },
     "execution_count": 6,
     "metadata": {},
     "output_type": "execute_result"
    },
    {
     "data": {
      "text/plain": [
       "'/gpfs/home/jackpmanning/Documents/resil/feat/sub-Resiliency211/design_sub-Resiliency211_run-2.fsf'"
      ]
     },
     "execution_count": 6,
     "metadata": {},
     "output_type": "execute_result"
    },
    {
     "data": {
      "text/plain": [
       "'/gpfs/home/jackpmanning/Documents/resil/feat/sub-Resiliency211/design_sub-Resiliency211_run-3.fsf'"
      ]
     },
     "execution_count": 6,
     "metadata": {},
     "output_type": "execute_result"
    },
    {
     "data": {
      "text/plain": [
       "'/gpfs/home/jackpmanning/Documents/resil/feat/sub-Resiliency210/design_sub-Resiliency210_run-1.fsf'"
      ]
     },
     "execution_count": 6,
     "metadata": {},
     "output_type": "execute_result"
    },
    {
     "data": {
      "text/plain": [
       "'/gpfs/home/jackpmanning/Documents/resil/feat/sub-Resiliency210/design_sub-Resiliency210_run-2.fsf'"
      ]
     },
     "execution_count": 6,
     "metadata": {},
     "output_type": "execute_result"
    },
    {
     "data": {
      "text/plain": [
       "'/gpfs/home/jackpmanning/Documents/resil/feat/sub-Resiliency210/design_sub-Resiliency210_run-3.fsf'"
      ]
     },
     "execution_count": 6,
     "metadata": {},
     "output_type": "execute_result"
    },
    {
     "data": {
      "text/plain": [
       "'/gpfs/home/jackpmanning/Documents/resil/feat/sub-Resiliency205/design_sub-Resiliency205_run-1.fsf'"
      ]
     },
     "execution_count": 6,
     "metadata": {},
     "output_type": "execute_result"
    },
    {
     "data": {
      "text/plain": [
       "'/gpfs/home/jackpmanning/Documents/resil/feat/sub-Resiliency205/design_sub-Resiliency205_run-2.fsf'"
      ]
     },
     "execution_count": 6,
     "metadata": {},
     "output_type": "execute_result"
    },
    {
     "data": {
      "text/plain": [
       "'/gpfs/home/jackpmanning/Documents/resil/feat/sub-Resiliency205/design_sub-Resiliency205_run-3.fsf'"
      ]
     },
     "execution_count": 6,
     "metadata": {},
     "output_type": "execute_result"
    },
    {
     "data": {
      "text/plain": [
       "'/gpfs/home/jackpmanning/Documents/resil/feat/sub-Resiliency204/design_sub-Resiliency204_run-1.fsf'"
      ]
     },
     "execution_count": 6,
     "metadata": {},
     "output_type": "execute_result"
    },
    {
     "data": {
      "text/plain": [
       "'/gpfs/home/jackpmanning/Documents/resil/feat/sub-Resiliency204/design_sub-Resiliency204_run-2.fsf'"
      ]
     },
     "execution_count": 6,
     "metadata": {},
     "output_type": "execute_result"
    },
    {
     "data": {
      "text/plain": [
       "'/gpfs/home/jackpmanning/Documents/resil/feat/sub-Resiliency204/design_sub-Resiliency204_run-3.fsf'"
      ]
     },
     "execution_count": 6,
     "metadata": {},
     "output_type": "execute_result"
    },
    {
     "data": {
      "text/plain": [
       "'/gpfs/home/jackpmanning/Documents/resil/feat/sub-Resiliency302/design_sub-Resiliency302_run-1.fsf'"
      ]
     },
     "execution_count": 6,
     "metadata": {},
     "output_type": "execute_result"
    },
    {
     "data": {
      "text/plain": [
       "'/gpfs/home/jackpmanning/Documents/resil/feat/sub-Resiliency302/design_sub-Resiliency302_run-2.fsf'"
      ]
     },
     "execution_count": 6,
     "metadata": {},
     "output_type": "execute_result"
    },
    {
     "data": {
      "text/plain": [
       "'/gpfs/home/jackpmanning/Documents/resil/feat/sub-Resiliency302/design_sub-Resiliency302_run-3.fsf'"
      ]
     },
     "execution_count": 6,
     "metadata": {},
     "output_type": "execute_result"
    }
   ],
   "source": [
    "# This block creates a new directory for each subject within the feat directory\n",
    "for subid in subs:\n",
    "    # check if the directory already exists\n",
    "    if os.path.exists(featdir + '/' + subid):\n",
    "        continue # skip to the next subject if the directory exists\n",
    "    # create a new directory for the subid\n",
    "    os.makedirs(featdir + '/' + subid)\n",
    "\n",
    "    # initialize/reinitialize fsf list for individual subjects\n",
    "    fsf_fi = []\n",
    "    # Get the list of files for each subject then copy the fsf file from the fsfdir to each subject's feat dir.\n",
    "    for files in fsf_ls:\n",
    "        # Check for matches\n",
    "        match = re.search(subid, files)\n",
    "\n",
    "        if match:\n",
    "            fsf_fi.append(files)\n",
    "            shutil.copy(fsfdir + '/' + files, featdir + '/' + subid)"
   ]
  },
  {
   "cell_type": "code",
   "execution_count": 30,
   "metadata": {},
   "outputs": [
    {
     "name": "stdout",
     "output_type": "stream",
     "text": [
      "To view the FEAT progress and final report, point your web browser at /gpfs/home/jackpmanning/Documents/resil/feat/sub-Resiliency204.feat/report_log.html\n"
     ]
    },
    {
     "data": {
      "text/plain": [
       "CompletedProcess(args=['feat', '/gpfs/home/jackpmanning/Documents/resil/feat/sub-Resiliency204/design_sub-Resiliency204_run-2.fsf'], returncode=0)"
      ]
     },
     "execution_count": 30,
     "metadata": {},
     "output_type": "execute_result"
    },
    {
     "name": "stdout",
     "output_type": "stream",
     "text": [
      "To view the FEAT progress and final report, point your web browser at /gpfs/home/jackpmanning/Documents/resil/feat/sub-Resiliency204+.feat/report_log.html\n"
     ]
    },
    {
     "data": {
      "text/plain": [
       "CompletedProcess(args=['feat', '/gpfs/home/jackpmanning/Documents/resil/feat/sub-Resiliency204/design_sub-Resiliency204_run-1.fsf'], returncode=0)"
      ]
     },
     "execution_count": 30,
     "metadata": {},
     "output_type": "execute_result"
    },
    {
     "name": "stdout",
     "output_type": "stream",
     "text": [
      "To view the FEAT progress and final report, point your web browser at /gpfs/home/jackpmanning/Documents/resil/feat/sub-Resiliency204++.feat/report_log.html\n"
     ]
    },
    {
     "data": {
      "text/plain": [
       "CompletedProcess(args=['feat', '/gpfs/home/jackpmanning/Documents/resil/feat/sub-Resiliency204/design_sub-Resiliency204_run-3.fsf'], returncode=0)"
      ]
     },
     "execution_count": 30,
     "metadata": {},
     "output_type": "execute_result"
    },
    {
     "name": "stdout",
     "output_type": "stream",
     "text": [
      "To view the FEAT progress and final report, point your web browser at /gpfs/home/jackpmanning/Documents/resil/feat/sub-Resiliency203.feat/report_log.html\n"
     ]
    },
    {
     "data": {
      "text/plain": [
       "CompletedProcess(args=['feat', '/gpfs/home/jackpmanning/Documents/resil/feat/sub-Resiliency203/design_sub-Resiliency203_run-1.fsf'], returncode=0)"
      ]
     },
     "execution_count": 30,
     "metadata": {},
     "output_type": "execute_result"
    },
    {
     "name": "stdout",
     "output_type": "stream",
     "text": [
      "To view the FEAT progress and final report, point your web browser at /gpfs/home/jackpmanning/Documents/resil/feat/sub-Resiliency203+.feat/report_log.html\n"
     ]
    },
    {
     "data": {
      "text/plain": [
       "CompletedProcess(args=['feat', '/gpfs/home/jackpmanning/Documents/resil/feat/sub-Resiliency203/design_sub-Resiliency203_run-2.fsf'], returncode=0)"
      ]
     },
     "execution_count": 30,
     "metadata": {},
     "output_type": "execute_result"
    },
    {
     "name": "stdout",
     "output_type": "stream",
     "text": [
      "To view the FEAT progress and final report, point your web browser at /gpfs/home/jackpmanning/Documents/resil/feat/sub-Resiliency203++.feat/report_log.html\n"
     ]
    },
    {
     "data": {
      "text/plain": [
       "CompletedProcess(args=['feat', '/gpfs/home/jackpmanning/Documents/resil/feat/sub-Resiliency203/design_sub-Resiliency203_run-3.fsf'], returncode=0)"
      ]
     },
     "execution_count": 30,
     "metadata": {},
     "output_type": "execute_result"
    },
    {
     "name": "stdout",
     "output_type": "stream",
     "text": [
      "To view the FEAT progress and final report, point your web browser at /gpfs/home/jackpmanning/Documents/resil/feat/sub-Resiliency206.feat/report_log.html\n"
     ]
    },
    {
     "data": {
      "text/plain": [
       "CompletedProcess(args=['feat', '/gpfs/home/jackpmanning/Documents/resil/feat/sub-Resiliency206/design_sub-Resiliency206_run-1.fsf'], returncode=0)"
      ]
     },
     "execution_count": 30,
     "metadata": {},
     "output_type": "execute_result"
    },
    {
     "name": "stdout",
     "output_type": "stream",
     "text": [
      "To view the FEAT progress and final report, point your web browser at /gpfs/home/jackpmanning/Documents/resil/feat/sub-Resiliency206+.feat/report_log.html\n"
     ]
    },
    {
     "data": {
      "text/plain": [
       "CompletedProcess(args=['feat', '/gpfs/home/jackpmanning/Documents/resil/feat/sub-Resiliency206/design_sub-Resiliency206_run-2.fsf'], returncode=0)"
      ]
     },
     "execution_count": 30,
     "metadata": {},
     "output_type": "execute_result"
    },
    {
     "name": "stdout",
     "output_type": "stream",
     "text": [
      "To view the FEAT progress and final report, point your web browser at /gpfs/home/jackpmanning/Documents/resil/feat/sub-Resiliency206++.feat/report_log.html\n"
     ]
    },
    {
     "data": {
      "text/plain": [
       "CompletedProcess(args=['feat', '/gpfs/home/jackpmanning/Documents/resil/feat/sub-Resiliency206/design_sub-Resiliency206_run-3.fsf'], returncode=0)"
      ]
     },
     "execution_count": 30,
     "metadata": {},
     "output_type": "execute_result"
    },
    {
     "name": "stdout",
     "output_type": "stream",
     "text": [
      "To view the FEAT progress and final report, point your web browser at /gpfs/home/jackpmanning/Documents/resil/feat/sub-Resiliency205.feat/report_log.html\n"
     ]
    },
    {
     "data": {
      "text/plain": [
       "CompletedProcess(args=['feat', '/gpfs/home/jackpmanning/Documents/resil/feat/sub-Resiliency205/design_sub-Resiliency205_run-1.fsf'], returncode=0)"
      ]
     },
     "execution_count": 30,
     "metadata": {},
     "output_type": "execute_result"
    },
    {
     "name": "stdout",
     "output_type": "stream",
     "text": [
      "To view the FEAT progress and final report, point your web browser at /gpfs/home/jackpmanning/Documents/resil/feat/sub-Resiliency205+.feat/report_log.html\n"
     ]
    },
    {
     "data": {
      "text/plain": [
       "CompletedProcess(args=['feat', '/gpfs/home/jackpmanning/Documents/resil/feat/sub-Resiliency205/design_sub-Resiliency205_run-2.fsf'], returncode=0)"
      ]
     },
     "execution_count": 30,
     "metadata": {},
     "output_type": "execute_result"
    },
    {
     "name": "stdout",
     "output_type": "stream",
     "text": [
      "To view the FEAT progress and final report, point your web browser at /gpfs/home/jackpmanning/Documents/resil/feat/sub-Resiliency205++.feat/report_log.html\n"
     ]
    },
    {
     "data": {
      "text/plain": [
       "CompletedProcess(args=['feat', '/gpfs/home/jackpmanning/Documents/resil/feat/sub-Resiliency205/design_sub-Resiliency205_run-3.fsf'], returncode=0)"
      ]
     },
     "execution_count": 30,
     "metadata": {},
     "output_type": "execute_result"
    },
    {
     "name": "stdout",
     "output_type": "stream",
     "text": [
      "To view the FEAT progress and final report, point your web browser at /gpfs/home/jackpmanning/Documents/resil/feat/sub-Resiliency211.feat/report_log.html\n"
     ]
    },
    {
     "data": {
      "text/plain": [
       "CompletedProcess(args=['feat', '/gpfs/home/jackpmanning/Documents/resil/feat/sub-Resiliency211/design_sub-Resiliency211_run-1.fsf'], returncode=0)"
      ]
     },
     "execution_count": 30,
     "metadata": {},
     "output_type": "execute_result"
    },
    {
     "name": "stdout",
     "output_type": "stream",
     "text": [
      "To view the FEAT progress and final report, point your web browser at /gpfs/home/jackpmanning/Documents/resil/feat/sub-Resiliency211+.feat/report_log.html\n"
     ]
    },
    {
     "data": {
      "text/plain": [
       "CompletedProcess(args=['feat', '/gpfs/home/jackpmanning/Documents/resil/feat/sub-Resiliency211/design_sub-Resiliency211_run-2.fsf'], returncode=0)"
      ]
     },
     "execution_count": 30,
     "metadata": {},
     "output_type": "execute_result"
    },
    {
     "name": "stdout",
     "output_type": "stream",
     "text": [
      "To view the FEAT progress and final report, point your web browser at /gpfs/home/jackpmanning/Documents/resil/feat/sub-Resiliency211++.feat/report_log.html\n"
     ]
    },
    {
     "data": {
      "text/plain": [
       "CompletedProcess(args=['feat', '/gpfs/home/jackpmanning/Documents/resil/feat/sub-Resiliency211/design_sub-Resiliency211_run-3.fsf'], returncode=0)"
      ]
     },
     "execution_count": 30,
     "metadata": {},
     "output_type": "execute_result"
    },
    {
     "name": "stdout",
     "output_type": "stream",
     "text": [
      "To view the FEAT progress and final report, point your web browser at /gpfs/home/jackpmanning/Documents/resil/feat/sub-Resiliency302.feat/report_log.html\n"
     ]
    },
    {
     "data": {
      "text/plain": [
       "CompletedProcess(args=['feat', '/gpfs/home/jackpmanning/Documents/resil/feat/sub-Resiliency302/design_sub-Resiliency302_run-3.fsf'], returncode=0)"
      ]
     },
     "execution_count": 30,
     "metadata": {},
     "output_type": "execute_result"
    },
    {
     "name": "stdout",
     "output_type": "stream",
     "text": [
      "To view the FEAT progress and final report, point your web browser at /gpfs/home/jackpmanning/Documents/resil/feat/sub-Resiliency302+.feat/report_log.html\n"
     ]
    },
    {
     "data": {
      "text/plain": [
       "CompletedProcess(args=['feat', '/gpfs/home/jackpmanning/Documents/resil/feat/sub-Resiliency302/design_sub-Resiliency302_run-2.fsf'], returncode=0)"
      ]
     },
     "execution_count": 30,
     "metadata": {},
     "output_type": "execute_result"
    },
    {
     "name": "stdout",
     "output_type": "stream",
     "text": [
      "To view the FEAT progress and final report, point your web browser at /gpfs/home/jackpmanning/Documents/resil/feat/sub-Resiliency302++.feat/report_log.html\n"
     ]
    },
    {
     "data": {
      "text/plain": [
       "CompletedProcess(args=['feat', '/gpfs/home/jackpmanning/Documents/resil/feat/sub-Resiliency302/design_sub-Resiliency302_run-1.fsf'], returncode=0)"
      ]
     },
     "execution_count": 30,
     "metadata": {},
     "output_type": "execute_result"
    },
    {
     "name": "stdout",
     "output_type": "stream",
     "text": [
      "To view the FEAT progress and final report, point your web browser at /gpfs/home/jackpmanning/Documents/resil/feat/sub-Resiliency201.feat/report_log.html\n"
     ]
    },
    {
     "data": {
      "text/plain": [
       "CompletedProcess(args=['feat', '/gpfs/home/jackpmanning/Documents/resil/feat/sub-Resiliency201/design_sub-Resiliency201_run-2.fsf'], returncode=0)"
      ]
     },
     "execution_count": 30,
     "metadata": {},
     "output_type": "execute_result"
    },
    {
     "name": "stdout",
     "output_type": "stream",
     "text": [
      "To view the FEAT progress and final report, point your web browser at /gpfs/home/jackpmanning/Documents/resil/feat/sub-Resiliency201+.feat/report_log.html\n"
     ]
    },
    {
     "data": {
      "text/plain": [
       "CompletedProcess(args=['feat', '/gpfs/home/jackpmanning/Documents/resil/feat/sub-Resiliency201/design_sub-Resiliency201_run-1.fsf'], returncode=0)"
      ]
     },
     "execution_count": 30,
     "metadata": {},
     "output_type": "execute_result"
    },
    {
     "name": "stdout",
     "output_type": "stream",
     "text": [
      "To view the FEAT progress and final report, point your web browser at /gpfs/home/jackpmanning/Documents/resil/feat/sub-Resiliency201++.feat/report_log.html\n"
     ]
    },
    {
     "data": {
      "text/plain": [
       "CompletedProcess(args=['feat', '/gpfs/home/jackpmanning/Documents/resil/feat/sub-Resiliency201/design_sub-Resiliency201_run-3.fsf'], returncode=0)"
      ]
     },
     "execution_count": 30,
     "metadata": {},
     "output_type": "execute_result"
    },
    {
     "name": "stdout",
     "output_type": "stream",
     "text": [
      "To view the FEAT progress and final report, point your web browser at /gpfs/home/jackpmanning/Documents/resil/feat/sub-Resiliency209.feat/report_log.html\n"
     ]
    },
    {
     "data": {
      "text/plain": [
       "CompletedProcess(args=['feat', '/gpfs/home/jackpmanning/Documents/resil/feat/sub-Resiliency209/design_sub-Resiliency209_run-1.fsf'], returncode=0)"
      ]
     },
     "execution_count": 30,
     "metadata": {},
     "output_type": "execute_result"
    },
    {
     "name": "stdout",
     "output_type": "stream",
     "text": [
      "To view the FEAT progress and final report, point your web browser at /gpfs/home/jackpmanning/Documents/resil/feat/sub-Resiliency209+.feat/report_log.html\n"
     ]
    },
    {
     "data": {
      "text/plain": [
       "CompletedProcess(args=['feat', '/gpfs/home/jackpmanning/Documents/resil/feat/sub-Resiliency209/design_sub-Resiliency209_run-2.fsf'], returncode=0)"
      ]
     },
     "execution_count": 30,
     "metadata": {},
     "output_type": "execute_result"
    },
    {
     "name": "stdout",
     "output_type": "stream",
     "text": [
      "To view the FEAT progress and final report, point your web browser at /gpfs/home/jackpmanning/Documents/resil/feat/sub-Resiliency209++.feat/report_log.html\n"
     ]
    },
    {
     "data": {
      "text/plain": [
       "CompletedProcess(args=['feat', '/gpfs/home/jackpmanning/Documents/resil/feat/sub-Resiliency209/design_sub-Resiliency209_run-3.fsf'], returncode=0)"
      ]
     },
     "execution_count": 30,
     "metadata": {},
     "output_type": "execute_result"
    },
    {
     "name": "stdout",
     "output_type": "stream",
     "text": [
      "To view the FEAT progress and final report, point your web browser at /gpfs/home/jackpmanning/Documents/resil/feat/sub-Resiliency210.feat/report_log.html\n"
     ]
    },
    {
     "data": {
      "text/plain": [
       "CompletedProcess(args=['feat', '/gpfs/home/jackpmanning/Documents/resil/feat/sub-Resiliency210/design_sub-Resiliency210_run-2.fsf'], returncode=0)"
      ]
     },
     "execution_count": 30,
     "metadata": {},
     "output_type": "execute_result"
    },
    {
     "name": "stdout",
     "output_type": "stream",
     "text": [
      "To view the FEAT progress and final report, point your web browser at /gpfs/home/jackpmanning/Documents/resil/feat/sub-Resiliency210+.feat/report_log.html\n"
     ]
    },
    {
     "data": {
      "text/plain": [
       "CompletedProcess(args=['feat', '/gpfs/home/jackpmanning/Documents/resil/feat/sub-Resiliency210/design_sub-Resiliency210_run-3.fsf'], returncode=0)"
      ]
     },
     "execution_count": 30,
     "metadata": {},
     "output_type": "execute_result"
    },
    {
     "name": "stdout",
     "output_type": "stream",
     "text": [
      "To view the FEAT progress and final report, point your web browser at /gpfs/home/jackpmanning/Documents/resil/feat/sub-Resiliency210++.feat/report_log.html\n"
     ]
    },
    {
     "data": {
      "text/plain": [
       "CompletedProcess(args=['feat', '/gpfs/home/jackpmanning/Documents/resil/feat/sub-Resiliency210/design_sub-Resiliency210_run-1.fsf'], returncode=0)"
      ]
     },
     "execution_count": 30,
     "metadata": {},
     "output_type": "execute_result"
    },
    {
     "name": "stdout",
     "output_type": "stream",
     "text": [
      "To view the FEAT progress and final report, point your web browser at /gpfs/home/jackpmanning/Documents/resil/feat/sub-Resiliency303.feat/report_log.html\n"
     ]
    },
    {
     "data": {
      "text/plain": [
       "CompletedProcess(args=['feat', '/gpfs/home/jackpmanning/Documents/resil/feat/sub-Resiliency303/design_sub-Resiliency303_run-2.fsf'], returncode=0)"
      ]
     },
     "execution_count": 30,
     "metadata": {},
     "output_type": "execute_result"
    },
    {
     "name": "stdout",
     "output_type": "stream",
     "text": [
      "To view the FEAT progress and final report, point your web browser at /gpfs/home/jackpmanning/Documents/resil/feat/sub-Resiliency303+.feat/report_log.html\n"
     ]
    },
    {
     "data": {
      "text/plain": [
       "CompletedProcess(args=['feat', '/gpfs/home/jackpmanning/Documents/resil/feat/sub-Resiliency303/design_sub-Resiliency303_run-3.fsf'], returncode=0)"
      ]
     },
     "execution_count": 30,
     "metadata": {},
     "output_type": "execute_result"
    },
    {
     "name": "stdout",
     "output_type": "stream",
     "text": [
      "To view the FEAT progress and final report, point your web browser at /gpfs/home/jackpmanning/Documents/resil/feat/sub-Resiliency303++.feat/report_log.html\n"
     ]
    },
    {
     "data": {
      "text/plain": [
       "CompletedProcess(args=['feat', '/gpfs/home/jackpmanning/Documents/resil/feat/sub-Resiliency303/design_sub-Resiliency303_run-1.fsf'], returncode=0)"
      ]
     },
     "execution_count": 30,
     "metadata": {},
     "output_type": "execute_result"
    },
    {
     "name": "stdout",
     "output_type": "stream",
     "text": [
      "To view the FEAT progress and final report, point your web browser at /gpfs/home/jackpmanning/Documents/resil/feat/sub-Resiliency207.feat/report_log.html\n"
     ]
    },
    {
     "data": {
      "text/plain": [
       "CompletedProcess(args=['feat', '/gpfs/home/jackpmanning/Documents/resil/feat/sub-Resiliency207/design_sub-Resiliency207_run-2.fsf'], returncode=0)"
      ]
     },
     "execution_count": 30,
     "metadata": {},
     "output_type": "execute_result"
    },
    {
     "name": "stdout",
     "output_type": "stream",
     "text": [
      "To view the FEAT progress and final report, point your web browser at /gpfs/home/jackpmanning/Documents/resil/feat/sub-Resiliency207+.feat/report_log.html\n"
     ]
    },
    {
     "data": {
      "text/plain": [
       "CompletedProcess(args=['feat', '/gpfs/home/jackpmanning/Documents/resil/feat/sub-Resiliency207/design_sub-Resiliency207_run-3.fsf'], returncode=0)"
      ]
     },
     "execution_count": 30,
     "metadata": {},
     "output_type": "execute_result"
    },
    {
     "name": "stdout",
     "output_type": "stream",
     "text": [
      "To view the FEAT progress and final report, point your web browser at /gpfs/home/jackpmanning/Documents/resil/feat/sub-Resiliency207++.feat/report_log.html\n"
     ]
    },
    {
     "data": {
      "text/plain": [
       "CompletedProcess(args=['feat', '/gpfs/home/jackpmanning/Documents/resil/feat/sub-Resiliency207/design_sub-Resiliency207_run-1.fsf'], returncode=0)"
      ]
     },
     "execution_count": 30,
     "metadata": {},
     "output_type": "execute_result"
    },
    {
     "name": "stdout",
     "output_type": "stream",
     "text": [
      "To view the FEAT progress and final report, point your web browser at /gpfs/home/jackpmanning/Documents/resil/feat/sub-Resiliency202.feat/report_log.html\n"
     ]
    },
    {
     "data": {
      "text/plain": [
       "CompletedProcess(args=['feat', '/gpfs/home/jackpmanning/Documents/resil/feat/sub-Resiliency202/design_sub-Resiliency202_run-3.fsf'], returncode=0)"
      ]
     },
     "execution_count": 30,
     "metadata": {},
     "output_type": "execute_result"
    },
    {
     "name": "stdout",
     "output_type": "stream",
     "text": [
      "To view the FEAT progress and final report, point your web browser at /gpfs/home/jackpmanning/Documents/resil/feat/sub-Resiliency202+.feat/report_log.html\n"
     ]
    },
    {
     "data": {
      "text/plain": [
       "CompletedProcess(args=['feat', '/gpfs/home/jackpmanning/Documents/resil/feat/sub-Resiliency202/design_sub-Resiliency202_run-2.fsf'], returncode=0)"
      ]
     },
     "execution_count": 30,
     "metadata": {},
     "output_type": "execute_result"
    },
    {
     "name": "stdout",
     "output_type": "stream",
     "text": [
      "To view the FEAT progress and final report, point your web browser at /gpfs/home/jackpmanning/Documents/resil/feat/sub-Resiliency202++.feat/report_log.html\n"
     ]
    },
    {
     "data": {
      "text/plain": [
       "CompletedProcess(args=['feat', '/gpfs/home/jackpmanning/Documents/resil/feat/sub-Resiliency202/design_sub-Resiliency202_run-1.fsf'], returncode=0)"
      ]
     },
     "execution_count": 30,
     "metadata": {},
     "output_type": "execute_result"
    },
    {
     "name": "stdout",
     "output_type": "stream",
     "text": [
      "To view the FEAT progress and final report, point your web browser at /gpfs/home/jackpmanning/Documents/resil/feat/sub-Resiliency304.feat/report_log.html\n"
     ]
    },
    {
     "data": {
      "text/plain": [
       "CompletedProcess(args=['feat', '/gpfs/home/jackpmanning/Documents/resil/feat/sub-Resiliency304/design_sub-Resiliency304_run-3.fsf'], returncode=0)"
      ]
     },
     "execution_count": 30,
     "metadata": {},
     "output_type": "execute_result"
    },
    {
     "name": "stdout",
     "output_type": "stream",
     "text": [
      "To view the FEAT progress and final report, point your web browser at /gpfs/home/jackpmanning/Documents/resil/feat/sub-Resiliency304+.feat/report_log.html\n"
     ]
    },
    {
     "data": {
      "text/plain": [
       "CompletedProcess(args=['feat', '/gpfs/home/jackpmanning/Documents/resil/feat/sub-Resiliency304/design_sub-Resiliency304_run-1.fsf'], returncode=0)"
      ]
     },
     "execution_count": 30,
     "metadata": {},
     "output_type": "execute_result"
    },
    {
     "name": "stdout",
     "output_type": "stream",
     "text": [
      "To view the FEAT progress and final report, point your web browser at /gpfs/home/jackpmanning/Documents/resil/feat/sub-Resiliency304++.feat/report_log.html\n"
     ]
    },
    {
     "data": {
      "text/plain": [
       "CompletedProcess(args=['feat', '/gpfs/home/jackpmanning/Documents/resil/feat/sub-Resiliency304/design_sub-Resiliency304_run-2.fsf'], returncode=0)"
      ]
     },
     "execution_count": 30,
     "metadata": {},
     "output_type": "execute_result"
    },
    {
     "name": "stdout",
     "output_type": "stream",
     "text": [
      "To view the FEAT progress and final report, point your web browser at /gpfs/home/jackpmanning/Documents/resil/feat/sub-Resiliency301.feat/report_log.html\n"
     ]
    },
    {
     "data": {
      "text/plain": [
       "CompletedProcess(args=['feat', '/gpfs/home/jackpmanning/Documents/resil/feat/sub-Resiliency301/design_sub-Resiliency301_run-3.fsf'], returncode=0)"
      ]
     },
     "execution_count": 30,
     "metadata": {},
     "output_type": "execute_result"
    },
    {
     "name": "stdout",
     "output_type": "stream",
     "text": [
      "To view the FEAT progress and final report, point your web browser at /gpfs/home/jackpmanning/Documents/resil/feat/sub-Resiliency301+.feat/report_log.html\n"
     ]
    },
    {
     "data": {
      "text/plain": [
       "CompletedProcess(args=['feat', '/gpfs/home/jackpmanning/Documents/resil/feat/sub-Resiliency301/design_sub-Resiliency301_run-1.fsf'], returncode=0)"
      ]
     },
     "execution_count": 30,
     "metadata": {},
     "output_type": "execute_result"
    },
    {
     "name": "stdout",
     "output_type": "stream",
     "text": [
      "To view the FEAT progress and final report, point your web browser at /gpfs/home/jackpmanning/Documents/resil/feat/sub-Resiliency301++.feat/report_log.html\n"
     ]
    },
    {
     "data": {
      "text/plain": [
       "CompletedProcess(args=['feat', '/gpfs/home/jackpmanning/Documents/resil/feat/sub-Resiliency301/design_sub-Resiliency301_run-2.fsf'], returncode=0)"
      ]
     },
     "execution_count": 30,
     "metadata": {},
     "output_type": "execute_result"
    },
    {
     "name": "stdout",
     "output_type": "stream",
     "text": [
      "To view the FEAT progress and final report, point your web browser at /gpfs/home/jackpmanning/Documents/resil/feat/sub-Resiliency306.feat/report_log.html\n"
     ]
    },
    {
     "data": {
      "text/plain": [
       "CompletedProcess(args=['feat', '/gpfs/home/jackpmanning/Documents/resil/feat/sub-Resiliency306/design_sub-Resiliency306_run-2.fsf'], returncode=0)"
      ]
     },
     "execution_count": 30,
     "metadata": {},
     "output_type": "execute_result"
    },
    {
     "name": "stdout",
     "output_type": "stream",
     "text": [
      "To view the FEAT progress and final report, point your web browser at /gpfs/home/jackpmanning/Documents/resil/feat/sub-Resiliency306+.feat/report_log.html\n"
     ]
    },
    {
     "data": {
      "text/plain": [
       "CompletedProcess(args=['feat', '/gpfs/home/jackpmanning/Documents/resil/feat/sub-Resiliency306/design_sub-Resiliency306_run-1.fsf'], returncode=0)"
      ]
     },
     "execution_count": 30,
     "metadata": {},
     "output_type": "execute_result"
    },
    {
     "name": "stdout",
     "output_type": "stream",
     "text": [
      "To view the FEAT progress and final report, point your web browser at /gpfs/home/jackpmanning/Documents/resil/feat/sub-Resiliency306++.feat/report_log.html\n"
     ]
    },
    {
     "data": {
      "text/plain": [
       "CompletedProcess(args=['feat', '/gpfs/home/jackpmanning/Documents/resil/feat/sub-Resiliency306/design_sub-Resiliency306_run-3.fsf'], returncode=0)"
      ]
     },
     "execution_count": 30,
     "metadata": {},
     "output_type": "execute_result"
    }
   ],
   "source": [
    "# This block runs fsl for all of the subjects\n",
    "# get a list of all of the folders in the feat directory\n",
    "all_items_featdir = os.listdir(featdir)\n",
    "\n",
    "# make sure to only keep the directory names\n",
    "featdir_subdirs = [p for p in os.listdir(featdir) if os.path.isdir(os.path.join(featdir, p))]\n",
    "\n",
    "for subject in featdir_subdirs:\n",
    "    # cd into subject feat directory\n",
    "    os.chdir(os.path.join(featdir, subject))\n",
    "    # initialize/reinitialize fsf list\n",
    "    fsf_files_ls = []\n",
    "\n",
    "    # get a list of all of the files within each folder within the directory\n",
    "    fsf_files_subject = [os.path.join(featdir, subject, file) for file in os.listdir(os.path.join(featdir, subject)) if file.endswith('.fsf')]\n",
    "    fsf_files_ls.append(fsf_files_subject)\n",
    "\n",
    "    for dotfsf in fsf_files_ls[0]:\n",
    "        subprocess.run(['feat', dotfsf])\n",
    "        # subprocess.run('ls -lh', shell=True) # for debugging"
   ]
  },
  {
   "cell_type": "code",
   "execution_count": 15,
   "metadata": {},
   "outputs": [
    {
     "name": "stdout",
     "output_type": "stream",
     "text": [
      "/gpfs/home/jackpmanning/Documents/resil/feat/sub-Resiliency204\n",
      "/gpfs/home/jackpmanning/Documents/resil/feat/sub-Resiliency203\n",
      "/gpfs/home/jackpmanning/Documents/resil/feat/sub-Resiliency206\n",
      "/gpfs/home/jackpmanning/Documents/resil/feat/sub-Resiliency205\n",
      "/gpfs/home/jackpmanning/Documents/resil/feat/sub-Resiliency211\n",
      "/gpfs/home/jackpmanning/Documents/resil/feat/sub-Resiliency302\n",
      "/gpfs/home/jackpmanning/Documents/resil/feat/sub-Resiliency201\n",
      "/gpfs/home/jackpmanning/Documents/resil/feat/sub-Resiliency209\n",
      "/gpfs/home/jackpmanning/Documents/resil/feat/sub-Resiliency210\n",
      "/gpfs/home/jackpmanning/Documents/resil/feat/sub-Resiliency303\n",
      "/gpfs/home/jackpmanning/Documents/resil/feat/sub-Resiliency207\n",
      "/gpfs/home/jackpmanning/Documents/resil/feat/sub-Resiliency202\n",
      "/gpfs/home/jackpmanning/Documents/resil/feat/sub-Resiliency304\n",
      "/gpfs/home/jackpmanning/Documents/resil/feat/sub-Resiliency301\n",
      "/gpfs/home/jackpmanning/Documents/resil/feat/sub-Resiliency306\n"
     ]
    },
    {
     "data": {
      "text/plain": [
       "'sub-Resiliency306'"
      ]
     },
     "execution_count": 15,
     "metadata": {},
     "output_type": "execute_result"
    }
   ],
   "source": [
    "# this block is for debugging\n",
    "for subject in featdir_subdirs:\n",
    "    print(os.path.join(featdir, subject))\n",
    "subject"
   ]
  },
  {
   "cell_type": "code",
   "execution_count": 17,
   "metadata": {},
   "outputs": [
    {
     "name": "stdout",
     "output_type": "stream",
     "text": [
      "/gpfs/home/jackpmanning/Documents/resil/feat/sub-Resiliency204/design_sub-Resiliency204_run-2.fsf gooo\n"
     ]
    },
    {
     "data": {
      "text/plain": [
       "CompletedProcess(args=['echo', '/gpfs/home/jackpmanning/Documents/resil/feat/sub-Resiliency204/design_sub-Resiliency204_run-2.fsf', 'gooo'], returncode=0)"
      ]
     },
     "execution_count": 17,
     "metadata": {},
     "output_type": "execute_result"
    }
   ],
   "source": [
    "# this block is for testing\n",
    "# subprocess.run needs shell=True to pass a string. If it is too long, it needs to be a list instead of a string.\n",
    "subprocess.run(['echo', fsf_files_ls[0][0], 'gooo'])"
   ]
  },
  {
   "cell_type": "code",
   "execution_count": 22,
   "metadata": {},
   "outputs": [
    {
     "name": "stdout",
     "output_type": "stream",
     "text": [
      "total 264K\n",
      "-rw-r----- 1 jackpmanning jackpmanning 84K Mar 29 16:34 design_sub-Resiliency204_run-1.fsf\n",
      "-rw-r----- 1 jackpmanning jackpmanning 84K Mar 29 16:34 design_sub-Resiliency204_run-2.fsf\n",
      "-rw-r----- 1 jackpmanning jackpmanning 84K Mar 29 16:34 design_sub-Resiliency204_run-3.fsf\n"
     ]
    },
    {
     "data": {
      "text/plain": [
       "CompletedProcess(args='ls -lh', returncode=0)"
      ]
     },
     "execution_count": 22,
     "metadata": {},
     "output_type": "execute_result"
    }
   ],
   "source": [
    "# debugging block\n",
    "subprocess.run('ls -lh', shell=True)"
   ]
  },
  {
   "cell_type": "code",
   "execution_count": null,
   "metadata": {},
   "outputs": [],
   "source": []
  }
 ],
 "metadata": {
  "kernelspec": {
   "display_name": "Python 3",
   "language": "python",
   "name": "python3"
  },
  "language_info": {
   "codemirror_mode": {
    "name": "ipython",
    "version": 3
   },
   "file_extension": ".py",
   "mimetype": "text/x-python",
   "name": "python",
   "nbconvert_exporter": "python",
   "pygments_lexer": "ipython3",
   "version": "3.8.10"
  },
  "orig_nbformat": 4
 },
 "nbformat": 4,
 "nbformat_minor": 2
}
